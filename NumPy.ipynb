{
  "nbformat": 4,
  "nbformat_minor": 0,
  "metadata": {
    "colab": {
      "provenance": []
    },
    "kernelspec": {
      "name": "python3",
      "display_name": "Python 3"
    },
    "language_info": {
      "name": "python"
    }
  },
  "cells": [
    {
      "cell_type": "markdown",
      "source": [
        "**NumPy** - numerical python\n",
        "\n",
        "                     Advantages of numpy : allow faster and several operation"
      ],
      "metadata": {
        "id": "0b0jDSkJQhiz"
      }
    },
    {
      "cell_type": "code",
      "execution_count": 1,
      "metadata": {
        "id": "Oc2Uxm9UPs-d"
      },
      "outputs": [],
      "source": [
        "#importing library\n",
        "import numpy as np"
      ]
    },
    {
      "cell_type": "markdown",
      "source": [
        "**Array Creation**"
      ],
      "metadata": {
        "id": "1_l94T5mR76n"
      }
    },
    {
      "cell_type": "markdown",
      "source": [
        "1D array - similar to vectors"
      ],
      "metadata": {
        "id": "Zf3nl9LHREYg"
      }
    },
    {
      "cell_type": "code",
      "source": [
        "a = np.array([1,2,3,4,5])\n",
        "print(a)"
      ],
      "metadata": {
        "colab": {
          "base_uri": "https://localhost:8080/"
        },
        "id": "scLDq3fqQ_le",
        "outputId": "b98b447c-0bf3-4c9b-9758-c439123f90c6"
      },
      "execution_count": 2,
      "outputs": [
        {
          "output_type": "stream",
          "name": "stdout",
          "text": [
            "[1 2 3 4 5]\n"
          ]
        }
      ]
    },
    {
      "cell_type": "code",
      "source": [
        "a.shape"
      ],
      "metadata": {
        "colab": {
          "base_uri": "https://localhost:8080/"
        },
        "id": "jKy02Q3FRRy5",
        "outputId": "4262bcc3-e2d2-43df-90a1-c50cee58866f"
      },
      "execution_count": 3,
      "outputs": [
        {
          "output_type": "execute_result",
          "data": {
            "text/plain": [
              "(5,)"
            ]
          },
          "metadata": {},
          "execution_count": 3
        }
      ]
    },
    {
      "cell_type": "markdown",
      "source": [
        "2D array - similar to matrices"
      ],
      "metadata": {
        "id": "Gp3D9NINRd7-"
      }
    },
    {
      "cell_type": "code",
      "source": [
        "b = np.array([[2,4,6,8],[1,3,5,7]])\n",
        "print(b)"
      ],
      "metadata": {
        "colab": {
          "base_uri": "https://localhost:8080/"
        },
        "id": "3trTQKwfRdn0",
        "outputId": "8df3a7d6-fe93-4a6a-ac14-4094173bd861"
      },
      "execution_count": 4,
      "outputs": [
        {
          "output_type": "stream",
          "name": "stdout",
          "text": [
            "[[2 4 6 8]\n",
            " [1 3 5 7]]\n"
          ]
        }
      ]
    },
    {
      "cell_type": "code",
      "source": [
        "b.shape"
      ],
      "metadata": {
        "colab": {
          "base_uri": "https://localhost:8080/"
        },
        "id": "GK2M_GARROpQ",
        "outputId": "534a2100-9afb-4f53-c09b-99d906c50933"
      },
      "execution_count": 5,
      "outputs": [
        {
          "output_type": "execute_result",
          "data": {
            "text/plain": [
              "(2, 4)"
            ]
          },
          "metadata": {},
          "execution_count": 5
        }
      ]
    },
    {
      "cell_type": "markdown",
      "source": [
        "dtype - tells about the data type of array"
      ],
      "metadata": {
        "id": "bgGYeXhvRth_"
      }
    },
    {
      "cell_type": "code",
      "source": [
        "c = np.array([[2,4,6,8],[1,3,5,7]], dtype = float)\n",
        "print(c)"
      ],
      "metadata": {
        "colab": {
          "base_uri": "https://localhost:8080/"
        },
        "id": "dXB38RenRpWm",
        "outputId": "f34fbea1-181c-44b2-d4b9-4bdefe1403e7"
      },
      "execution_count": 7,
      "outputs": [
        {
          "output_type": "stream",
          "name": "stdout",
          "text": [
            "[[2. 4. 6. 8.]\n",
            " [1. 3. 5. 7.]]\n"
          ]
        }
      ]
    },
    {
      "cell_type": "markdown",
      "source": [
        "**Initial Placeholders**"
      ],
      "metadata": {
        "id": "7YJ8vTPER63z"
      }
    },
    {
      "cell_type": "markdown",
      "source": [
        "Zeros"
      ],
      "metadata": {
        "id": "mQD6Vvf8SCPG"
      }
    },
    {
      "cell_type": "code",
      "source": [
        "zero = np.zeros((3,5))\n",
        "print(zero)"
      ],
      "metadata": {
        "colab": {
          "base_uri": "https://localhost:8080/"
        },
        "id": "7pPMht-9R2mW",
        "outputId": "0eba2bff-aec9-4f2b-8c65-0e757401f66f"
      },
      "execution_count": 8,
      "outputs": [
        {
          "output_type": "stream",
          "name": "stdout",
          "text": [
            "[[0. 0. 0. 0. 0.]\n",
            " [0. 0. 0. 0. 0.]\n",
            " [0. 0. 0. 0. 0.]]\n"
          ]
        }
      ]
    },
    {
      "cell_type": "markdown",
      "source": [
        "Ones"
      ],
      "metadata": {
        "id": "npMU9NPJSK1m"
      }
    },
    {
      "cell_type": "code",
      "source": [
        "one = np.ones((2,3))\n",
        "print(one)"
      ],
      "metadata": {
        "colab": {
          "base_uri": "https://localhost:8080/"
        },
        "id": "BBwlQA3jSJV7",
        "outputId": "677d60f6-db3d-4a40-bd50-a95f3504ec14"
      },
      "execution_count": 9,
      "outputs": [
        {
          "output_type": "stream",
          "name": "stdout",
          "text": [
            "[[1. 1. 1.]\n",
            " [1. 1. 1.]]\n"
          ]
        }
      ]
    },
    {
      "cell_type": "markdown",
      "source": [
        "Particular Value"
      ],
      "metadata": {
        "id": "tIVrXkgmSfvd"
      }
    },
    {
      "cell_type": "code",
      "source": [
        "x = np.full((2,3),5)\n",
        "print(x)"
      ],
      "metadata": {
        "colab": {
          "base_uri": "https://localhost:8080/"
        },
        "id": "J69ILvNPSiJU",
        "outputId": "d5f412ff-96ff-4cf5-f271-c87b4064e615"
      },
      "execution_count": 13,
      "outputs": [
        {
          "output_type": "stream",
          "name": "stdout",
          "text": [
            "[[5 5 5]\n",
            " [5 5 5]]\n"
          ]
        }
      ]
    },
    {
      "cell_type": "markdown",
      "source": [
        "Identity"
      ],
      "metadata": {
        "id": "mD3RVmhRSQ9J"
      }
    },
    {
      "cell_type": "code",
      "source": [
        "id = np.eye(4,4)\n",
        "print(id)"
      ],
      "metadata": {
        "colab": {
          "base_uri": "https://localhost:8080/"
        },
        "id": "vkbsBK2hSPL2",
        "outputId": "4236e44d-18e1-4482-b9ec-eae89938730f"
      },
      "execution_count": 12,
      "outputs": [
        {
          "output_type": "stream",
          "name": "stdout",
          "text": [
            "[[1. 0. 0. 0.]\n",
            " [0. 1. 0. 0.]\n",
            " [0. 0. 1. 0.]\n",
            " [0. 0. 0. 1.]]\n"
          ]
        }
      ]
    },
    {
      "cell_type": "markdown",
      "source": [
        "Random numbers (0 to 1)"
      ],
      "metadata": {
        "id": "UqMxyUSfSpzG"
      }
    },
    {
      "cell_type": "code",
      "source": [
        "rd = np.random.random((2,3))\n",
        "print(rd)"
      ],
      "metadata": {
        "colab": {
          "base_uri": "https://localhost:8080/"
        },
        "id": "woOXpUpLSXEr",
        "outputId": "49cd794c-1efb-4ff7-e310-73e9cd6fb4e3"
      },
      "execution_count": 14,
      "outputs": [
        {
          "output_type": "stream",
          "name": "stdout",
          "text": [
            "[[0.76860726 0.25753912 0.51248977]\n",
            " [0.65908405 0.46026469 0.10694456]]\n"
          ]
        }
      ]
    },
    {
      "cell_type": "markdown",
      "source": [
        "Random Integer Numbers"
      ],
      "metadata": {
        "id": "OUlRLJGYS2NM"
      }
    },
    {
      "cell_type": "code",
      "source": [
        "random_int = np.random.randint(1, 10, (3,3))\n",
        "print(random_int)"
      ],
      "metadata": {
        "colab": {
          "base_uri": "https://localhost:8080/"
        },
        "id": "uS270VBqSxdQ",
        "outputId": "4daefa8b-c4f0-4765-e80e-948377dd7f97"
      },
      "execution_count": 15,
      "outputs": [
        {
          "output_type": "stream",
          "name": "stdout",
          "text": [
            "[[3 6 4]\n",
            " [1 5 8]\n",
            " [4 3 2]]\n"
          ]
        }
      ]
    },
    {
      "cell_type": "code",
      "source": [
        "random_int = np.random.randint(10, 100, (3,5))\n",
        "print(random_int)"
      ],
      "metadata": {
        "colab": {
          "base_uri": "https://localhost:8080/"
        },
        "id": "tVZvbgdiS_6s",
        "outputId": "6976f569-1c55-4058-d253-bcd2961144b7"
      },
      "execution_count": 16,
      "outputs": [
        {
          "output_type": "stream",
          "name": "stdout",
          "text": [
            "[[52 92 30 20 95]\n",
            " [36 57 56 84 95]\n",
            " [45 39 74 95 69]]\n"
          ]
        }
      ]
    },
    {
      "cell_type": "markdown",
      "source": [
        "Evenly Spaced Values"
      ],
      "metadata": {
        "id": "9JHNl4uoTKY7"
      }
    },
    {
      "cell_type": "code",
      "source": [
        "ls = np.linspace(5, 15, 3)\n",
        "print(ls)"
      ],
      "metadata": {
        "colab": {
          "base_uri": "https://localhost:8080/"
        },
        "id": "OffXMnvlTGi2",
        "outputId": "3c95e235-0736-4d96-ff5d-91efd489a314"
      },
      "execution_count": 21,
      "outputs": [
        {
          "output_type": "stream",
          "name": "stdout",
          "text": [
            "[ 5. 10. 15.]\n"
          ]
        }
      ]
    },
    {
      "cell_type": "markdown",
      "source": [
        "Evenly spaced with Step"
      ],
      "metadata": {
        "id": "MK2smGKWTa34"
      }
    },
    {
      "cell_type": "code",
      "source": [
        "ar = np.arange(10,50,6)\n",
        "print(ar)"
      ],
      "metadata": {
        "colab": {
          "base_uri": "https://localhost:8080/"
        },
        "id": "zKgxrDOmTRvH",
        "outputId": "6055a6ec-ff18-4002-9b27-fe45c7fe62c1"
      },
      "execution_count": 23,
      "outputs": [
        {
          "output_type": "stream",
          "name": "stdout",
          "text": [
            "[10 16 22 28 34 40 46]\n"
          ]
        }
      ]
    },
    {
      "cell_type": "markdown",
      "source": [
        "**List to an Array**"
      ],
      "metadata": {
        "id": "VlffyR0wTp3r"
      }
    },
    {
      "cell_type": "code",
      "source": [
        "li = [1,2,3,4,5,6]\n",
        "ar = np.asarray(li)\n",
        "print(ar)"
      ],
      "metadata": {
        "colab": {
          "base_uri": "https://localhost:8080/"
        },
        "id": "X5rpP6SgTlTf",
        "outputId": "04123000-0e33-46c7-fb02-48c01b18abd6"
      },
      "execution_count": 24,
      "outputs": [
        {
          "output_type": "stream",
          "name": "stdout",
          "text": [
            "[1 2 3 4 5 6]\n"
          ]
        }
      ]
    },
    {
      "cell_type": "markdown",
      "source": [
        "**Analyzing a numpy array**"
      ],
      "metadata": {
        "id": "tXOlempgT2qB"
      }
    },
    {
      "cell_type": "code",
      "source": [
        "a = np.random.randint(10, 90, (5,5))\n",
        "print(a)"
      ],
      "metadata": {
        "colab": {
          "base_uri": "https://localhost:8080/"
        },
        "id": "gqxsm6sKT12Q",
        "outputId": "d382f287-4dea-4d6d-b7ad-881e32567e38"
      },
      "execution_count": 25,
      "outputs": [
        {
          "output_type": "stream",
          "name": "stdout",
          "text": [
            "[[37 38 10 50 34]\n",
            " [48 89 89 45 41]\n",
            " [81 89 55 84 22]\n",
            " [87 44 32 75 18]\n",
            " [56 37 10 25 73]]\n"
          ]
        }
      ]
    },
    {
      "cell_type": "markdown",
      "source": [
        "shape - tell rows and columns"
      ],
      "metadata": {
        "id": "Dd_q0HRdT80p"
      }
    },
    {
      "cell_type": "code",
      "source": [
        "a.shape"
      ],
      "metadata": {
        "colab": {
          "base_uri": "https://localhost:8080/"
        },
        "id": "qRFrtbIATyHl",
        "outputId": "e229ae13-9f98-414e-87a7-32a4a8164791"
      },
      "execution_count": 26,
      "outputs": [
        {
          "output_type": "execute_result",
          "data": {
            "text/plain": [
              "(5, 5)"
            ]
          },
          "metadata": {},
          "execution_count": 26
        }
      ]
    },
    {
      "cell_type": "markdown",
      "source": [
        "ndim - no. of dimensions"
      ],
      "metadata": {
        "id": "OR-B1z4YUC92"
      }
    },
    {
      "cell_type": "code",
      "source": [
        "a.ndim"
      ],
      "metadata": {
        "colab": {
          "base_uri": "https://localhost:8080/"
        },
        "id": "mT_f76ftT-7h",
        "outputId": "a1c566e2-2405-451a-a730-fe9432cdbeba"
      },
      "execution_count": 27,
      "outputs": [
        {
          "output_type": "execute_result",
          "data": {
            "text/plain": [
              "2"
            ]
          },
          "metadata": {},
          "execution_count": 27
        }
      ]
    },
    {
      "cell_type": "markdown",
      "source": [
        "size - no.of elements in an array"
      ],
      "metadata": {
        "id": "n8fk-169UK8B"
      }
    },
    {
      "cell_type": "code",
      "source": [
        "a.size"
      ],
      "metadata": {
        "colab": {
          "base_uri": "https://localhost:8080/"
        },
        "id": "YC526_w6UGHb",
        "outputId": "c71e9d14-35fe-4875-939a-6fc6048ca27c"
      },
      "execution_count": 29,
      "outputs": [
        {
          "output_type": "execute_result",
          "data": {
            "text/plain": [
              "25"
            ]
          },
          "metadata": {},
          "execution_count": 29
        }
      ]
    },
    {
      "cell_type": "markdown",
      "source": [
        "dtype - tells datatype"
      ],
      "metadata": {
        "id": "PcdH4O7ZUPbw"
      }
    },
    {
      "cell_type": "code",
      "source": [
        "a.dtype"
      ],
      "metadata": {
        "colab": {
          "base_uri": "https://localhost:8080/"
        },
        "id": "EZcbyG1GUJco",
        "outputId": "6b6cb426-f894-4744-f81a-e570fe6a5840"
      },
      "execution_count": 30,
      "outputs": [
        {
          "output_type": "execute_result",
          "data": {
            "text/plain": [
              "dtype('int64')"
            ]
          },
          "metadata": {},
          "execution_count": 30
        }
      ]
    },
    {
      "cell_type": "markdown",
      "source": [
        "**Mathematical Operations on an aray**"
      ],
      "metadata": {
        "id": "wTHkptiBUix1"
      }
    },
    {
      "cell_type": "markdown",
      "source": [
        "Creating two arrays"
      ],
      "metadata": {
        "id": "-0HUJsy1UvE5"
      }
    },
    {
      "cell_type": "code",
      "source": [
        "a = np.random.randint(0,10,(3,3))\n",
        "print(a)"
      ],
      "metadata": {
        "colab": {
          "base_uri": "https://localhost:8080/"
        },
        "id": "OTTIt7iuUTvz",
        "outputId": "79566ad2-9e09-4198-f801-f4661681ab31"
      },
      "execution_count": 32,
      "outputs": [
        {
          "output_type": "stream",
          "name": "stdout",
          "text": [
            "[[9 9 7]\n",
            " [6 4 3]\n",
            " [3 4 7]]\n"
          ]
        }
      ]
    },
    {
      "cell_type": "code",
      "source": [
        "b = np.random.randint(10,20,(3,3))\n",
        "print(b)"
      ],
      "metadata": {
        "colab": {
          "base_uri": "https://localhost:8080/"
        },
        "id": "RgjWmaPqU099",
        "outputId": "3770a28a-198c-4fad-9cf2-f2de8daf7c3f"
      },
      "execution_count": 33,
      "outputs": [
        {
          "output_type": "stream",
          "name": "stdout",
          "text": [
            "[[16 10 16]\n",
            " [15 18 13]\n",
            " [13 11 14]]\n"
          ]
        }
      ]
    },
    {
      "cell_type": "markdown",
      "source": [
        "Addition"
      ],
      "metadata": {
        "id": "DsN9W9_9U6Tv"
      }
    },
    {
      "cell_type": "code",
      "source": [
        "np.add(a,b)"
      ],
      "metadata": {
        "colab": {
          "base_uri": "https://localhost:8080/"
        },
        "id": "tWAsDz8pU5XS",
        "outputId": "5de4a1ad-c26f-4e2f-9037-4c711f6f0d1d"
      },
      "execution_count": 34,
      "outputs": [
        {
          "output_type": "execute_result",
          "data": {
            "text/plain": [
              "array([[25, 19, 23],\n",
              "       [21, 22, 16],\n",
              "       [16, 15, 21]])"
            ]
          },
          "metadata": {},
          "execution_count": 34
        }
      ]
    },
    {
      "cell_type": "markdown",
      "source": [
        "Subtraction"
      ],
      "metadata": {
        "id": "6lWQzkxwVAFI"
      }
    },
    {
      "cell_type": "code",
      "source": [
        "np.subtract(a,b)"
      ],
      "metadata": {
        "colab": {
          "base_uri": "https://localhost:8080/"
        },
        "id": "qqUdHkU_U-lZ",
        "outputId": "465feb62-b8a9-4f26-d47b-1644cf49e645"
      },
      "execution_count": 35,
      "outputs": [
        {
          "output_type": "execute_result",
          "data": {
            "text/plain": [
              "array([[ -7,  -1,  -9],\n",
              "       [ -9, -14, -10],\n",
              "       [-10,  -7,  -7]])"
            ]
          },
          "metadata": {},
          "execution_count": 35
        }
      ]
    },
    {
      "cell_type": "markdown",
      "source": [
        "Multiply"
      ],
      "metadata": {
        "id": "ct_b7hm1VFIu"
      }
    },
    {
      "cell_type": "code",
      "source": [
        "np.multiply(a,b)"
      ],
      "metadata": {
        "colab": {
          "base_uri": "https://localhost:8080/"
        },
        "id": "XzOi-U8-VEGe",
        "outputId": "272e4278-242a-4c21-8e1b-04b2bc2e7f49"
      },
      "execution_count": 36,
      "outputs": [
        {
          "output_type": "execute_result",
          "data": {
            "text/plain": [
              "array([[144,  90, 112],\n",
              "       [ 90,  72,  39],\n",
              "       [ 39,  44,  98]])"
            ]
          },
          "metadata": {},
          "execution_count": 36
        }
      ]
    },
    {
      "cell_type": "markdown",
      "source": [
        "Divide"
      ],
      "metadata": {
        "id": "yjBs-a0nVLlM"
      }
    },
    {
      "cell_type": "code",
      "source": [
        "np.divide(a,b)"
      ],
      "metadata": {
        "colab": {
          "base_uri": "https://localhost:8080/"
        },
        "id": "ioBln4VyVIj8",
        "outputId": "97d9956c-3849-4e2c-8326-ffe173dbfbd0"
      },
      "execution_count": 38,
      "outputs": [
        {
          "output_type": "execute_result",
          "data": {
            "text/plain": [
              "array([[0.5625    , 0.9       , 0.4375    ],\n",
              "       [0.4       , 0.22222222, 0.23076923],\n",
              "       [0.23076923, 0.36363636, 0.5       ]])"
            ]
          },
          "metadata": {},
          "execution_count": 38
        }
      ]
    },
    {
      "cell_type": "markdown",
      "source": [
        "**Statitical operations**"
      ],
      "metadata": {
        "id": "Y_C-_8kfVZ0d"
      }
    },
    {
      "cell_type": "markdown",
      "source": [
        "Creating an array"
      ],
      "metadata": {
        "id": "51t-i3qCVfoc"
      }
    },
    {
      "cell_type": "code",
      "source": [
        "s = np.random.randint(10,20,(4,4))\n",
        "print(s)"
      ],
      "metadata": {
        "colab": {
          "base_uri": "https://localhost:8080/"
        },
        "id": "rICnr1SQVKCv",
        "outputId": "dca18014-7a75-4c2c-a141-f0e1701c2d28"
      },
      "execution_count": 39,
      "outputs": [
        {
          "output_type": "stream",
          "name": "stdout",
          "text": [
            "[[19 14 15 13]\n",
            " [11 18 15 15]\n",
            " [12 15 17 15]\n",
            " [10 16 14 19]]\n"
          ]
        }
      ]
    },
    {
      "cell_type": "markdown",
      "source": [
        "Mean"
      ],
      "metadata": {
        "id": "Z6P19ONCVjRI"
      }
    },
    {
      "cell_type": "code",
      "source": [
        "np.mean(s)"
      ],
      "metadata": {
        "colab": {
          "base_uri": "https://localhost:8080/"
        },
        "id": "qTaZhurUViYm",
        "outputId": "2847b579-e6e5-4945-dc09-92143eac0f2f"
      },
      "execution_count": 42,
      "outputs": [
        {
          "output_type": "execute_result",
          "data": {
            "text/plain": [
              "np.float64(14.875)"
            ]
          },
          "metadata": {},
          "execution_count": 42
        }
      ]
    },
    {
      "cell_type": "markdown",
      "source": [
        "Median"
      ],
      "metadata": {
        "id": "xoAw6tbKVoVo"
      }
    },
    {
      "cell_type": "code",
      "source": [
        "np.median(s)"
      ],
      "metadata": {
        "colab": {
          "base_uri": "https://localhost:8080/"
        },
        "id": "UjfS8sq0VmpR",
        "outputId": "0a45812c-c8af-4ae0-f4d0-61c7e083b3f9"
      },
      "execution_count": 44,
      "outputs": [
        {
          "output_type": "execute_result",
          "data": {
            "text/plain": [
              "np.float64(15.0)"
            ]
          },
          "metadata": {},
          "execution_count": 44
        }
      ]
    },
    {
      "cell_type": "markdown",
      "source": [
        "Mode"
      ],
      "metadata": {
        "id": "y3hdY5l6WAvf"
      }
    },
    {
      "cell_type": "code",
      "source": [
        "from scipy import stats\n",
        "\n",
        "s = stats.mode(s, keepdims= True)\n",
        "print(s.mode[0])"
      ],
      "metadata": {
        "colab": {
          "base_uri": "https://localhost:8080/"
        },
        "id": "K80Q1SP5VqTT",
        "outputId": "98d638a8-e01c-4154-e0a6-c9716ec5c36c"
      },
      "execution_count": 47,
      "outputs": [
        {
          "output_type": "stream",
          "name": "stdout",
          "text": [
            "[1 1 1 1]\n"
          ]
        }
      ]
    },
    {
      "cell_type": "markdown",
      "source": [
        "Range"
      ],
      "metadata": {
        "id": "gYEaQRM9WYf7"
      }
    },
    {
      "cell_type": "code",
      "source": [
        "r = np.max(s) - np.min(s)\n",
        "print(r)"
      ],
      "metadata": {
        "colab": {
          "base_uri": "https://localhost:8080/"
        },
        "id": "eruJWlDgWJvz",
        "outputId": "3c5f748f-d137-4e67-e577-423c95b6feef"
      },
      "execution_count": 49,
      "outputs": [
        {
          "output_type": "stream",
          "name": "stdout",
          "text": [
            "1\n"
          ]
        }
      ]
    },
    {
      "cell_type": "markdown",
      "source": [
        "Variance"
      ],
      "metadata": {
        "id": "csRzQNAbWlOM"
      }
    },
    {
      "cell_type": "code",
      "source": [
        "np.var(s)"
      ],
      "metadata": {
        "colab": {
          "base_uri": "https://localhost:8080/"
        },
        "id": "LGod31x9WfJC",
        "outputId": "754834b0-4d90-447c-df3c-441ae592ebe2"
      },
      "execution_count": 50,
      "outputs": [
        {
          "output_type": "execute_result",
          "data": {
            "text/plain": [
              "np.float64(0.1875)"
            ]
          },
          "metadata": {},
          "execution_count": 50
        }
      ]
    },
    {
      "cell_type": "markdown",
      "source": [
        "Standard deviation"
      ],
      "metadata": {
        "id": "NHwcTj1TWrt1"
      }
    },
    {
      "cell_type": "code",
      "source": [
        "np.std(s)"
      ],
      "metadata": {
        "colab": {
          "base_uri": "https://localhost:8080/"
        },
        "id": "z9_F7QM2WpPv",
        "outputId": "38073dfa-c16b-4206-88a3-52c97387a0e0"
      },
      "execution_count": 51,
      "outputs": [
        {
          "output_type": "execute_result",
          "data": {
            "text/plain": [
              "np.float64(0.4330127018922193)"
            ]
          },
          "metadata": {},
          "execution_count": 51
        }
      ]
    },
    {
      "cell_type": "markdown",
      "source": [
        "**Set Operations**"
      ],
      "metadata": {
        "id": "SxibiEEoW1bk"
      }
    },
    {
      "cell_type": "code",
      "source": [
        "x = np.random.randint(1,10,(3,3))\n",
        "print(x)"
      ],
      "metadata": {
        "colab": {
          "base_uri": "https://localhost:8080/"
        },
        "id": "YkMyk_4GWx87",
        "outputId": "b45e0b97-b12f-4d89-861f-0ad1b33db3e3"
      },
      "execution_count": 52,
      "outputs": [
        {
          "output_type": "stream",
          "name": "stdout",
          "text": [
            "[[6 4 4]\n",
            " [7 3 4]\n",
            " [7 3 1]]\n"
          ]
        }
      ]
    },
    {
      "cell_type": "code",
      "source": [
        "y = np.random.randint(1,10,(3,3))\n",
        "print(y)"
      ],
      "metadata": {
        "colab": {
          "base_uri": "https://localhost:8080/"
        },
        "id": "o_Ep0mXsW8N_",
        "outputId": "950ada04-aa24-40f7-849b-f67212bb6a2d"
      },
      "execution_count": 53,
      "outputs": [
        {
          "output_type": "stream",
          "name": "stdout",
          "text": [
            "[[5 3 2]\n",
            " [3 1 3]\n",
            " [2 9 5]]\n"
          ]
        }
      ]
    },
    {
      "cell_type": "markdown",
      "source": [
        "Union"
      ],
      "metadata": {
        "id": "PTJM6wTpXDyD"
      }
    },
    {
      "cell_type": "code",
      "source": [
        "np.union1d(x,y)"
      ],
      "metadata": {
        "colab": {
          "base_uri": "https://localhost:8080/"
        },
        "id": "BancIFgYXBTN",
        "outputId": "f15ac332-37ba-4b54-e5b1-29eacbc17be8"
      },
      "execution_count": 54,
      "outputs": [
        {
          "output_type": "execute_result",
          "data": {
            "text/plain": [
              "array([1, 2, 3, 4, 5, 6, 7, 9])"
            ]
          },
          "metadata": {},
          "execution_count": 54
        }
      ]
    },
    {
      "cell_type": "markdown",
      "source": [
        "Intersection"
      ],
      "metadata": {
        "id": "E2f0RbSOXMcJ"
      }
    },
    {
      "cell_type": "code",
      "source": [
        "np.intersect1d(x,y)"
      ],
      "metadata": {
        "colab": {
          "base_uri": "https://localhost:8080/"
        },
        "id": "3IlaumcKXJZe",
        "outputId": "a62b6994-1b68-4567-8dd5-21424fd9fe4a"
      },
      "execution_count": 55,
      "outputs": [
        {
          "output_type": "execute_result",
          "data": {
            "text/plain": [
              "array([1, 3])"
            ]
          },
          "metadata": {},
          "execution_count": 55
        }
      ]
    },
    {
      "cell_type": "markdown",
      "source": [
        "Set Difference"
      ],
      "metadata": {
        "id": "D6XZsyJ6XTta"
      }
    },
    {
      "cell_type": "code",
      "source": [
        "np.setdiff1d(x,y)"
      ],
      "metadata": {
        "colab": {
          "base_uri": "https://localhost:8080/"
        },
        "id": "wHBlW34SXRO1",
        "outputId": "bab1346d-167f-49c0-a677-72fa3b123045"
      },
      "execution_count": 56,
      "outputs": [
        {
          "output_type": "execute_result",
          "data": {
            "text/plain": [
              "array([4, 6, 7])"
            ]
          },
          "metadata": {},
          "execution_count": 56
        }
      ]
    },
    {
      "cell_type": "markdown",
      "source": [
        "**Array Manipulation**"
      ],
      "metadata": {
        "id": "xwd5cy5lXiUH"
      }
    },
    {
      "cell_type": "markdown",
      "source": [
        "array creation"
      ],
      "metadata": {
        "id": "CxOJOpzwXmRu"
      }
    },
    {
      "cell_type": "code",
      "source": [
        "a = np.random.randint(1,10,(3,3))\n",
        "print(a)"
      ],
      "metadata": {
        "colab": {
          "base_uri": "https://localhost:8080/"
        },
        "id": "xI2wTBzLXYWg",
        "outputId": "0619796d-96e0-4ffe-c21d-52e706683fc7"
      },
      "execution_count": 57,
      "outputs": [
        {
          "output_type": "stream",
          "name": "stdout",
          "text": [
            "[[9 7 6]\n",
            " [5 6 7]\n",
            " [1 6 1]]\n"
          ]
        }
      ]
    },
    {
      "cell_type": "markdown",
      "source": [
        "Transpose"
      ],
      "metadata": {
        "id": "UY-efuxJX4LV"
      }
    },
    {
      "cell_type": "code",
      "source": [
        "a.T"
      ],
      "metadata": {
        "colab": {
          "base_uri": "https://localhost:8080/"
        },
        "id": "M6t9kjFFX29i",
        "outputId": "f24ec34e-b29a-422c-d209-41b8e8b90c7d"
      },
      "execution_count": 59,
      "outputs": [
        {
          "output_type": "execute_result",
          "data": {
            "text/plain": [
              "array([[9, 5, 1],\n",
              "       [7, 6, 6],\n",
              "       [6, 7, 1]])"
            ]
          },
          "metadata": {},
          "execution_count": 59
        }
      ]
    },
    {
      "cell_type": "markdown",
      "source": [
        "Reshape"
      ],
      "metadata": {
        "id": "h4e9bPflX-wy"
      }
    },
    {
      "cell_type": "code",
      "source": [
        "a.reshape(3,3)"
      ],
      "metadata": {
        "colab": {
          "base_uri": "https://localhost:8080/"
        },
        "id": "lC9SsrHOX7Qs",
        "outputId": "d0c2817c-8960-4c6b-f04f-015863a2dc11"
      },
      "execution_count": 61,
      "outputs": [
        {
          "output_type": "execute_result",
          "data": {
            "text/plain": [
              "array([[9, 7, 6],\n",
              "       [5, 6, 7],\n",
              "       [1, 6, 1]])"
            ]
          },
          "metadata": {},
          "execution_count": 61
        }
      ]
    },
    {
      "cell_type": "markdown",
      "source": [
        "flatten"
      ],
      "metadata": {
        "id": "tjWfVzQ5YKfF"
      }
    },
    {
      "cell_type": "code",
      "source": [
        "a.flatten()"
      ],
      "metadata": {
        "colab": {
          "base_uri": "https://localhost:8080/"
        },
        "id": "xHYa9XpoYD0C",
        "outputId": "c2d9e106-fb0d-4ec1-f6ee-e379cf48b3d2"
      },
      "execution_count": 62,
      "outputs": [
        {
          "output_type": "execute_result",
          "data": {
            "text/plain": [
              "array([9, 7, 6, 5, 6, 7, 1, 6, 1])"
            ]
          },
          "metadata": {},
          "execution_count": 62
        }
      ]
    },
    {
      "cell_type": "markdown",
      "source": [
        "Ravel"
      ],
      "metadata": {
        "id": "EHRuWyBEYQeX"
      }
    },
    {
      "cell_type": "code",
      "source": [
        "a.ravel()"
      ],
      "metadata": {
        "colab": {
          "base_uri": "https://localhost:8080/"
        },
        "id": "xBf91WPEYM7H",
        "outputId": "b8252830-3d36-4913-d7b4-d020c52594e1"
      },
      "execution_count": 63,
      "outputs": [
        {
          "output_type": "execute_result",
          "data": {
            "text/plain": [
              "array([9, 7, 6, 5, 6, 7, 1, 6, 1])"
            ]
          },
          "metadata": {},
          "execution_count": 63
        }
      ]
    },
    {
      "cell_type": "markdown",
      "source": [
        "**Linear Algebra**"
      ],
      "metadata": {
        "id": "u6QVJVlwYrte"
      }
    },
    {
      "cell_type": "code",
      "source": [
        "a = np.random.randint(1,10,(3,3))\n",
        "print(a)"
      ],
      "metadata": {
        "colab": {
          "base_uri": "https://localhost:8080/"
        },
        "id": "QV3Vim2jYSiS",
        "outputId": "63243676-503b-47a6-ade2-7ee7b302197f"
      },
      "execution_count": 65,
      "outputs": [
        {
          "output_type": "stream",
          "name": "stdout",
          "text": [
            "[[3 5 9]\n",
            " [5 8 6]\n",
            " [2 2 3]]\n"
          ]
        }
      ]
    },
    {
      "cell_type": "code",
      "source": [
        "b = np.random.randint(1,10,(3,3))\n",
        "print(b)"
      ],
      "metadata": {
        "colab": {
          "base_uri": "https://localhost:8080/"
        },
        "id": "Wxeh4gPDYaDy",
        "outputId": "1eb901c6-cc72-4ecd-f372-830a742dc5a7"
      },
      "execution_count": 66,
      "outputs": [
        {
          "output_type": "stream",
          "name": "stdout",
          "text": [
            "[[7 7 3]\n",
            " [9 7 8]\n",
            " [9 1 4]]\n"
          ]
        }
      ]
    },
    {
      "cell_type": "markdown",
      "source": [
        "Dot Product"
      ],
      "metadata": {
        "id": "IkWVPLh3Yyb0"
      }
    },
    {
      "cell_type": "code",
      "source": [
        "np.dot(a,b)"
      ],
      "metadata": {
        "colab": {
          "base_uri": "https://localhost:8080/"
        },
        "id": "qbFhLXrvYxon",
        "outputId": "c4e31aa9-4d9f-45be-d859-5570618bd13d"
      },
      "execution_count": 67,
      "outputs": [
        {
          "output_type": "execute_result",
          "data": {
            "text/plain": [
              "array([[147,  65,  85],\n",
              "       [161,  97, 103],\n",
              "       [ 59,  31,  34]])"
            ]
          },
          "metadata": {},
          "execution_count": 67
        }
      ]
    },
    {
      "cell_type": "markdown",
      "source": [
        "Determinant"
      ],
      "metadata": {
        "id": "ZqZZ-enxY4OU"
      }
    },
    {
      "cell_type": "code",
      "source": [
        "np.linalg.det(a)"
      ],
      "metadata": {
        "colab": {
          "base_uri": "https://localhost:8080/"
        },
        "id": "mUVJ0GCKY3Lu",
        "outputId": "c9737e87-d88e-43b0-d2a6-a6806464cd55"
      },
      "execution_count": 68,
      "outputs": [
        {
          "output_type": "execute_result",
          "data": {
            "text/plain": [
              "np.float64(-32.999999999999986)"
            ]
          },
          "metadata": {},
          "execution_count": 68
        }
      ]
    },
    {
      "cell_type": "markdown",
      "source": [
        "Inverse"
      ],
      "metadata": {
        "id": "Hl7RLKvHY9Ui"
      }
    },
    {
      "cell_type": "code",
      "source": [
        "np.linalg.inv(a)"
      ],
      "metadata": {
        "colab": {
          "base_uri": "https://localhost:8080/"
        },
        "id": "y5ZazteqY8kG",
        "outputId": "e5c563a2-0bbd-4738-8b93-826fb90f66d9"
      },
      "execution_count": 69,
      "outputs": [
        {
          "output_type": "execute_result",
          "data": {
            "text/plain": [
              "array([[-0.36363636, -0.09090909,  1.27272727],\n",
              "       [ 0.09090909,  0.27272727, -0.81818182],\n",
              "       [ 0.18181818, -0.12121212,  0.03030303]])"
            ]
          },
          "metadata": {},
          "execution_count": 69
        }
      ]
    },
    {
      "cell_type": "markdown",
      "source": [
        "Eigen Value"
      ],
      "metadata": {
        "id": "EXHOrsJuZB-H"
      }
    },
    {
      "cell_type": "code",
      "source": [
        "np.linalg.eig(a)"
      ],
      "metadata": {
        "colab": {
          "base_uri": "https://localhost:8080/"
        },
        "id": "QIbsXeQUZA9d",
        "outputId": "f6f72f9c-aee3-43b2-c833-e337e99c5b4a"
      },
      "execution_count": 70,
      "outputs": [
        {
          "output_type": "execute_result",
          "data": {
            "text/plain": [
              "EigResult(eigenvalues=array([13.67736889, -1.4003398 ,  1.72297092]), eigenvectors=array([[-0.57719648, -0.91066066,  0.54255033],\n",
              "       [-0.77625569,  0.31017368, -0.76463403],\n",
              "       [-0.25351792,  0.27292755,  0.34781307]]))"
            ]
          },
          "metadata": {},
          "execution_count": 70
        }
      ]
    },
    {
      "cell_type": "markdown",
      "source": [
        "**Indexing**"
      ],
      "metadata": {
        "id": "j56nRHTYZOd7"
      }
    },
    {
      "cell_type": "code",
      "source": [
        "arr = np.array([1,2,3,4,5,6])\n",
        "print(arr)"
      ],
      "metadata": {
        "colab": {
          "base_uri": "https://localhost:8080/"
        },
        "id": "WaXzN4G4ZGRH",
        "outputId": "70c593bc-da10-4d2a-93c7-5fdfae16a079"
      },
      "execution_count": 73,
      "outputs": [
        {
          "output_type": "stream",
          "name": "stdout",
          "text": [
            "[1 2 3 4 5 6]\n"
          ]
        }
      ]
    },
    {
      "cell_type": "code",
      "source": [
        "arr[0]"
      ],
      "metadata": {
        "colab": {
          "base_uri": "https://localhost:8080/"
        },
        "id": "OMMVzydzZTRy",
        "outputId": "0f75bf98-daff-41aa-d657-2d9bb12fcd36"
      },
      "execution_count": 74,
      "outputs": [
        {
          "output_type": "execute_result",
          "data": {
            "text/plain": [
              "np.int64(1)"
            ]
          },
          "metadata": {},
          "execution_count": 74
        }
      ]
    },
    {
      "cell_type": "code",
      "source": [
        "arr[4]"
      ],
      "metadata": {
        "colab": {
          "base_uri": "https://localhost:8080/"
        },
        "id": "_UM9NqYhZXCm",
        "outputId": "37e05267-6057-470b-e177-a3f058025d02"
      },
      "execution_count": 75,
      "outputs": [
        {
          "output_type": "execute_result",
          "data": {
            "text/plain": [
              "np.int64(5)"
            ]
          },
          "metadata": {},
          "execution_count": 75
        }
      ]
    },
    {
      "cell_type": "code",
      "source": [
        "arr[-1]"
      ],
      "metadata": {
        "colab": {
          "base_uri": "https://localhost:8080/"
        },
        "id": "FFQA0DLjZdoB",
        "outputId": "59bc5647-cc19-4913-85b4-5001859a1ac6"
      },
      "execution_count": 76,
      "outputs": [
        {
          "output_type": "execute_result",
          "data": {
            "text/plain": [
              "np.int64(6)"
            ]
          },
          "metadata": {},
          "execution_count": 76
        }
      ]
    },
    {
      "cell_type": "markdown",
      "source": [
        "**Slicing** - extracting subset of data"
      ],
      "metadata": {
        "id": "2q43AO9bZjFX"
      }
    },
    {
      "cell_type": "code",
      "source": [
        "a = np.array([1,2,3,4,5])\n",
        "print(a)"
      ],
      "metadata": {
        "colab": {
          "base_uri": "https://localhost:8080/"
        },
        "id": "XAFCB3ysZg9_",
        "outputId": "380ce613-23e7-4762-ca58-436aa38af59f"
      },
      "execution_count": 79,
      "outputs": [
        {
          "output_type": "stream",
          "name": "stdout",
          "text": [
            "[1 2 3 4 5]\n"
          ]
        }
      ]
    },
    {
      "cell_type": "code",
      "source": [
        "a[0:2]  #2-1 = 1"
      ],
      "metadata": {
        "colab": {
          "base_uri": "https://localhost:8080/"
        },
        "id": "RInh-s4RZrAa",
        "outputId": "7020095a-10b9-450d-f6e9-38a47aef25fe"
      },
      "execution_count": 84,
      "outputs": [
        {
          "output_type": "execute_result",
          "data": {
            "text/plain": [
              "array([1, 2])"
            ]
          },
          "metadata": {},
          "execution_count": 84
        }
      ]
    },
    {
      "cell_type": "code",
      "source": [
        "a[2:len(a)]"
      ],
      "metadata": {
        "colab": {
          "base_uri": "https://localhost:8080/"
        },
        "id": "ySucJVPHZvnm",
        "outputId": "243a3b1f-e055-44ac-ae77-cb87821e8a70"
      },
      "execution_count": 85,
      "outputs": [
        {
          "output_type": "execute_result",
          "data": {
            "text/plain": [
              "array([3, 4, 5])"
            ]
          },
          "metadata": {},
          "execution_count": 85
        }
      ]
    },
    {
      "cell_type": "code",
      "source": [
        "a[0::2]  #step"
      ],
      "metadata": {
        "colab": {
          "base_uri": "https://localhost:8080/"
        },
        "id": "4gZKC7rWaIWF",
        "outputId": "02b24f5c-a3a8-496b-b823-8665a66fd7fd"
      },
      "execution_count": 86,
      "outputs": [
        {
          "output_type": "execute_result",
          "data": {
            "text/plain": [
              "array([1, 3, 5])"
            ]
          },
          "metadata": {},
          "execution_count": 86
        }
      ]
    },
    {
      "cell_type": "markdown",
      "source": [
        "**Fancy Indexing** - selecting multiple indexes"
      ],
      "metadata": {
        "id": "-AhZ8sIfaPob"
      }
    },
    {
      "cell_type": "code",
      "source": [
        "a = np.array([1,2,3,4,5,6])\n",
        "print(a)"
      ],
      "metadata": {
        "colab": {
          "base_uri": "https://localhost:8080/"
        },
        "id": "KDAvsebJaL3d",
        "outputId": "e059791b-a74b-4fab-e4ec-c49c7665caef"
      },
      "execution_count": 87,
      "outputs": [
        {
          "output_type": "stream",
          "name": "stdout",
          "text": [
            "[1 2 3 4 5 6]\n"
          ]
        }
      ]
    },
    {
      "cell_type": "code",
      "source": [
        "print(a[1:2:4])"
      ],
      "metadata": {
        "colab": {
          "base_uri": "https://localhost:8080/"
        },
        "id": "MGqpbxSQairB",
        "outputId": "3a2ae30c-41dd-485c-c62c-77e2ab38aca1"
      },
      "execution_count": 90,
      "outputs": [
        {
          "output_type": "stream",
          "name": "stdout",
          "text": [
            "[2]\n"
          ]
        }
      ]
    },
    {
      "cell_type": "markdown",
      "source": [
        "**Filtering** - bolean masking"
      ],
      "metadata": {
        "id": "TRE7_J4kavG9"
      }
    },
    {
      "cell_type": "code",
      "source": [
        "arr = np.array([1,2,3,4,5,6])\n",
        "print(arr)"
      ],
      "metadata": {
        "colab": {
          "base_uri": "https://localhost:8080/"
        },
        "id": "2yd40oiAalXE",
        "outputId": "7f9a0805-b44c-4b75-afb5-60343236d227"
      },
      "execution_count": 91,
      "outputs": [
        {
          "output_type": "stream",
          "name": "stdout",
          "text": [
            "[1 2 3 4 5 6]\n"
          ]
        }
      ]
    },
    {
      "cell_type": "code",
      "source": [
        "arr[arr>4]"
      ],
      "metadata": {
        "colab": {
          "base_uri": "https://localhost:8080/"
        },
        "id": "Ug1eB5Rfa7wP",
        "outputId": "e5006250-5867-4316-989d-b91496103cce"
      },
      "execution_count": 92,
      "outputs": [
        {
          "output_type": "execute_result",
          "data": {
            "text/plain": [
              "array([5, 6])"
            ]
          },
          "metadata": {},
          "execution_count": 92
        }
      ]
    },
    {
      "cell_type": "markdown",
      "source": [
        "**Insering an element**"
      ],
      "metadata": {
        "id": "TyTJc9BCa_Hk"
      }
    },
    {
      "cell_type": "markdown",
      "source": [
        "1D array"
      ],
      "metadata": {
        "id": "lWUNm3zKbdOj"
      }
    },
    {
      "cell_type": "code",
      "source": [
        "x = np.array([2,4,6,8,10])\n",
        "print(x)"
      ],
      "metadata": {
        "colab": {
          "base_uri": "https://localhost:8080/"
        },
        "id": "6bvP4u7qa93e",
        "outputId": "45243055-bdd1-4a82-dea6-378b4c4fcfed"
      },
      "execution_count": 93,
      "outputs": [
        {
          "output_type": "stream",
          "name": "stdout",
          "text": [
            "[ 2  4  6  8 10]\n"
          ]
        }
      ]
    },
    {
      "cell_type": "code",
      "source": [
        "np.insert(x, 2, 5, axis = 0)  #(arr name, index, value, axis = 0)"
      ],
      "metadata": {
        "colab": {
          "base_uri": "https://localhost:8080/"
        },
        "id": "FHqIlSrJbLzm",
        "outputId": "0fc177e7-95af-4b22-d589-61851ca16329"
      },
      "execution_count": 96,
      "outputs": [
        {
          "output_type": "execute_result",
          "data": {
            "text/plain": [
              "array([ 2,  4,  5,  6,  8, 10])"
            ]
          },
          "metadata": {},
          "execution_count": 96
        }
      ]
    },
    {
      "cell_type": "markdown",
      "source": [
        "2D array"
      ],
      "metadata": {
        "id": "WLwBdAyCbfMx"
      }
    },
    {
      "cell_type": "code",
      "source": [
        "y = np.array([[1,2,3,4],[9,10,11,12]])\n",
        "print(y)"
      ],
      "metadata": {
        "colab": {
          "base_uri": "https://localhost:8080/"
        },
        "id": "YENx03b3bVPl",
        "outputId": "fd84cf2e-213f-4960-a72d-4472153158b3"
      },
      "execution_count": 97,
      "outputs": [
        {
          "output_type": "stream",
          "name": "stdout",
          "text": [
            "[[ 1  2  3  4]\n",
            " [ 9 10 11 12]]\n"
          ]
        }
      ]
    },
    {
      "cell_type": "code",
      "source": [
        "np.insert(y,1, [5,6,7,8], axis = 0)"
      ],
      "metadata": {
        "colab": {
          "base_uri": "https://localhost:8080/"
        },
        "id": "46y_82r8bnml",
        "outputId": "5c28f8c2-e304-4beb-ffa9-7e92944e5162"
      },
      "execution_count": 98,
      "outputs": [
        {
          "output_type": "execute_result",
          "data": {
            "text/plain": [
              "array([[ 1,  2,  3,  4],\n",
              "       [ 5,  6,  7,  8],\n",
              "       [ 9, 10, 11, 12]])"
            ]
          },
          "metadata": {},
          "execution_count": 98
        }
      ]
    },
    {
      "cell_type": "markdown",
      "source": [
        "**Delete an element**"
      ],
      "metadata": {
        "id": "2_EityFgbvld"
      }
    },
    {
      "cell_type": "code",
      "source": [
        "d = np.array([22,14,6,18,10])\n",
        "print(d)"
      ],
      "metadata": {
        "colab": {
          "base_uri": "https://localhost:8080/"
        },
        "id": "Vg5Ggnr2buX4",
        "outputId": "f56d0538-0ed9-4797-fc7b-884410c6850b"
      },
      "execution_count": 99,
      "outputs": [
        {
          "output_type": "stream",
          "name": "stdout",
          "text": [
            "[22 14  6 18 10]\n"
          ]
        }
      ]
    },
    {
      "cell_type": "code",
      "source": [
        "np.delete(d, 2)  #(arr name, index)"
      ],
      "metadata": {
        "colab": {
          "base_uri": "https://localhost:8080/"
        },
        "id": "gjvwvPl8b70P",
        "outputId": "4ca1c7b0-fc51-49f0-e8d4-3e4d4c60264f"
      },
      "execution_count": 101,
      "outputs": [
        {
          "output_type": "execute_result",
          "data": {
            "text/plain": [
              "array([22, 14, 18, 10])"
            ]
          },
          "metadata": {},
          "execution_count": 101
        }
      ]
    },
    {
      "cell_type": "markdown",
      "source": [
        "**Append an element**"
      ],
      "metadata": {
        "id": "4t-TzddkcD9-"
      }
    },
    {
      "cell_type": "code",
      "source": [
        "app = np.array([22,14,6,18,10])\n",
        "print(app)"
      ],
      "metadata": {
        "colab": {
          "base_uri": "https://localhost:8080/"
        },
        "id": "yZx2SR30cAyA",
        "outputId": "db85742c-1138-46be-b863-36c91852b750"
      },
      "execution_count": 102,
      "outputs": [
        {
          "output_type": "stream",
          "name": "stdout",
          "text": [
            "[22 14  6 18 10]\n"
          ]
        }
      ]
    },
    {
      "cell_type": "code",
      "source": [
        "np.append(app, 5)  #(arr name, value)"
      ],
      "metadata": {
        "colab": {
          "base_uri": "https://localhost:8080/"
        },
        "id": "waQ0rCU1cJp4",
        "outputId": "656381e6-fde1-4921-d1e0-8457fba8ec8e"
      },
      "execution_count": 103,
      "outputs": [
        {
          "output_type": "execute_result",
          "data": {
            "text/plain": [
              "array([22, 14,  6, 18, 10,  5])"
            ]
          },
          "metadata": {},
          "execution_count": 103
        }
      ]
    },
    {
      "cell_type": "markdown",
      "source": [
        "**Concatenate an array**"
      ],
      "metadata": {
        "id": "I4-3AMaDco8P"
      }
    },
    {
      "cell_type": "code",
      "source": [
        "a1 = np.array([1,2,3,4])\n",
        "print(a1)"
      ],
      "metadata": {
        "colab": {
          "base_uri": "https://localhost:8080/"
        },
        "id": "7x8Ru-OScM1y",
        "outputId": "605ff374-a43e-4b12-dea8-28c63266243e"
      },
      "execution_count": 104,
      "outputs": [
        {
          "output_type": "stream",
          "name": "stdout",
          "text": [
            "[1 2 3 4]\n"
          ]
        }
      ]
    },
    {
      "cell_type": "code",
      "source": [
        "a2 = np.array([5,6,7,8])\n",
        "print(a2)"
      ],
      "metadata": {
        "colab": {
          "base_uri": "https://localhost:8080/"
        },
        "id": "K62CXWRjct9X",
        "outputId": "f60f585c-334e-466d-ad38-ca1b0bc1e569"
      },
      "execution_count": 105,
      "outputs": [
        {
          "output_type": "stream",
          "name": "stdout",
          "text": [
            "[5 6 7 8]\n"
          ]
        }
      ]
    },
    {
      "cell_type": "code",
      "source": [
        "np.concatenate((a1,a2))"
      ],
      "metadata": {
        "colab": {
          "base_uri": "https://localhost:8080/"
        },
        "id": "KnSvRjPKcvp9",
        "outputId": "2b47b600-c405-4644-f721-c16bed6a8d97"
      },
      "execution_count": 106,
      "outputs": [
        {
          "output_type": "execute_result",
          "data": {
            "text/plain": [
              "array([1, 2, 3, 4, 5, 6, 7, 8])"
            ]
          },
          "metadata": {},
          "execution_count": 106
        }
      ]
    },
    {
      "cell_type": "markdown",
      "source": [
        "**Stacking**"
      ],
      "metadata": {
        "id": "DR_qhHc-c5RT"
      }
    },
    {
      "cell_type": "code",
      "source": [
        "a1 = np.array([1,2,3,4])\n",
        "a2 = np.array([5,6,7,8])"
      ],
      "metadata": {
        "id": "qn5mMkdUcySD"
      },
      "execution_count": 108,
      "outputs": []
    },
    {
      "cell_type": "code",
      "source": [
        "np.vstack((a1,a2))  #row-wise stacking"
      ],
      "metadata": {
        "colab": {
          "base_uri": "https://localhost:8080/"
        },
        "id": "o5KgoUEBc78Z",
        "outputId": "2afe2468-d6d3-4079-fe85-0c399f9f8c19"
      },
      "execution_count": 111,
      "outputs": [
        {
          "output_type": "execute_result",
          "data": {
            "text/plain": [
              "array([[1, 2, 3, 4],\n",
              "       [5, 6, 7, 8]])"
            ]
          },
          "metadata": {},
          "execution_count": 111
        }
      ]
    },
    {
      "cell_type": "code",
      "source": [
        "np.hstack((a1,a2))  #column-wise stacking"
      ],
      "metadata": {
        "colab": {
          "base_uri": "https://localhost:8080/"
        },
        "id": "_NPk8nN2dBY9",
        "outputId": "ab319929-ebfb-49c9-b981-0545a68151e6"
      },
      "execution_count": 112,
      "outputs": [
        {
          "output_type": "execute_result",
          "data": {
            "text/plain": [
              "array([1, 2, 3, 4, 5, 6, 7, 8])"
            ]
          },
          "metadata": {},
          "execution_count": 112
        }
      ]
    },
    {
      "cell_type": "markdown",
      "source": [
        "**Broadcasting**"
      ],
      "metadata": {
        "id": "ZBjyGQeUd2iL"
      }
    },
    {
      "cell_type": "code",
      "source": [
        "a = np.array([[1,2,3,4],[5,6,7,8]])\n",
        "print(a)"
      ],
      "metadata": {
        "colab": {
          "base_uri": "https://localhost:8080/"
        },
        "id": "VH_s3ylzd-7W",
        "outputId": "cd4c5a2e-56c6-4612-9164-9a5ef845344d"
      },
      "execution_count": 119,
      "outputs": [
        {
          "output_type": "stream",
          "name": "stdout",
          "text": [
            "[[1 2 3 4]\n",
            " [5 6 7 8]]\n"
          ]
        }
      ]
    },
    {
      "cell_type": "markdown",
      "source": [
        "Matching Dimensions"
      ],
      "metadata": {
        "id": "jrTw4xG1d5li"
      }
    },
    {
      "cell_type": "code",
      "source": [
        "c = np.array([1,2,3,4])"
      ],
      "metadata": {
        "id": "fb_1piEOdRc3"
      },
      "execution_count": 120,
      "outputs": []
    },
    {
      "cell_type": "code",
      "source": [
        "np.add(a,c)"
      ],
      "metadata": {
        "colab": {
          "base_uri": "https://localhost:8080/"
        },
        "id": "q-E1iGHndlft",
        "outputId": "3af08d5d-58c6-4607-f42e-6ad253eb8608"
      },
      "execution_count": 121,
      "outputs": [
        {
          "output_type": "execute_result",
          "data": {
            "text/plain": [
              "array([[ 2,  4,  6,  8],\n",
              "       [ 6,  8, 10, 12]])"
            ]
          },
          "metadata": {},
          "execution_count": 121
        }
      ]
    },
    {
      "cell_type": "markdown",
      "source": [
        "Expanding single array"
      ],
      "metadata": {
        "id": "fLBZBu0eehrE"
      }
    },
    {
      "cell_type": "code",
      "source": [
        "print(a)\n",
        "b = 3\n",
        "a * b"
      ],
      "metadata": {
        "colab": {
          "base_uri": "https://localhost:8080/"
        },
        "id": "kgP3S_jodvf9",
        "outputId": "a1734bb5-47a2-40b5-dd9a-d3ab1dbb0de7"
      },
      "execution_count": 125,
      "outputs": [
        {
          "output_type": "stream",
          "name": "stdout",
          "text": [
            "[[1 2 3 4]\n",
            " [5 6 7 8]]\n"
          ]
        },
        {
          "output_type": "execute_result",
          "data": {
            "text/plain": [
              "array([[ 3,  6,  9, 12],\n",
              "       [15, 18, 21, 24]])"
            ]
          },
          "metadata": {},
          "execution_count": 125
        }
      ]
    },
    {
      "cell_type": "markdown",
      "source": [
        "Incompatible Shapes - error"
      ],
      "metadata": {
        "id": "z4Oddq5VetmB"
      }
    },
    {
      "cell_type": "markdown",
      "source": [
        "**Handle Missing Values**"
      ],
      "metadata": {
        "id": "MCUf3pMDez85"
      }
    },
    {
      "cell_type": "markdown",
      "source": [
        " **nan()** - checking for missing values"
      ],
      "metadata": {
        "id": "JaROsHd-e6py"
      }
    },
    {
      "cell_type": "code",
      "source": [
        "arr = np.array([1,2,3,np.nan,5,6,7,np.nan])\n",
        "print(arr)"
      ],
      "metadata": {
        "colab": {
          "base_uri": "https://localhost:8080/"
        },
        "id": "EzaAY-fAefwY",
        "outputId": "e427be4b-acae-45a0-dbc7-efb34279dbf6"
      },
      "execution_count": 127,
      "outputs": [
        {
          "output_type": "stream",
          "name": "stdout",
          "text": [
            "[ 1.  2.  3. nan  5.  6.  7. nan]\n"
          ]
        }
      ]
    },
    {
      "cell_type": "markdown",
      "source": [
        "**nan_to_num()** -  replace nan values"
      ],
      "metadata": {
        "id": "oVOkKUPafQX4"
      }
    },
    {
      "cell_type": "code",
      "source": [
        "arr = np.array([1,2,3,np.nan,5,6,7,np.nan])\n",
        "n_arr = np.nan_to_num(arr)\n",
        "print(n_arr)"
      ],
      "metadata": {
        "colab": {
          "base_uri": "https://localhost:8080/"
        },
        "id": "EqajqesEfE6K",
        "outputId": "8213f1df-5c06-47da-b2fc-8b6e2f4ec263"
      },
      "execution_count": 128,
      "outputs": [
        {
          "output_type": "stream",
          "name": "stdout",
          "text": [
            "[1. 2. 3. 0. 5. 6. 7. 0.]\n"
          ]
        }
      ]
    },
    {
      "cell_type": "markdown",
      "source": [
        "**isinf()** - checks for infinity values"
      ],
      "metadata": {
        "id": "JWf-XB5Cfh-s"
      }
    },
    {
      "cell_type": "code",
      "source": [
        "arr = np.array([1,2,np.inf, 3])\n",
        "print(arr)"
      ],
      "metadata": {
        "colab": {
          "base_uri": "https://localhost:8080/"
        },
        "id": "oVd_uv3afemX",
        "outputId": "c5d48153-ee50-4ebe-9f01-af199a0465fb"
      },
      "execution_count": 129,
      "outputs": [
        {
          "output_type": "stream",
          "name": "stdout",
          "text": [
            "[ 1.  2. inf  3.]\n"
          ]
        }
      ]
    },
    {
      "cell_type": "code",
      "source": [],
      "metadata": {
        "id": "koO-gRVefu6c"
      },
      "execution_count": null,
      "outputs": []
    }
  ]
}